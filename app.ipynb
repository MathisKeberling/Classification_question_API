{
 "cells": [
  {
   "cell_type": "code",
   "execution_count": 4,
   "id": "f2e77aa2",
   "metadata": {},
   "outputs": [
    {
     "ename": "ModuleNotFoundError",
     "evalue": "No module named 'gunicorn'",
     "output_type": "error",
     "traceback": [
      "\u001b[0;31m---------------------------------------------------------------------------\u001b[0m",
      "\u001b[0;31mModuleNotFoundError\u001b[0m                       Traceback (most recent call last)",
      "Cell \u001b[0;32mIn[4], line 1\u001b[0m\n\u001b[0;32m----> 1\u001b[0m \u001b[38;5;28;01mimport\u001b[39;00m \u001b[38;5;21;01mgunicorn\u001b[39;00m\n\u001b[1;32m      3\u001b[0m \u001b[38;5;28mprint\u001b[39m(gunicorn\u001b[38;5;241m.\u001b[39m__version__)\n",
      "\u001b[0;31mModuleNotFoundError\u001b[0m: No module named 'gunicorn'"
     ]
    }
   ],
   "source": [
    "import gunicorn\n",
    "\n",
    "print(gunicorn.__version__)\n"
   ]
  },
  {
   "cell_type": "code",
   "execution_count": 2,
   "id": "033cd641",
   "metadata": {},
   "outputs": [
    {
     "ename": "NameError",
     "evalue": "name 'unicorn' is not defined",
     "output_type": "error",
     "traceback": [
      "\u001b[0;31m---------------------------------------------------------------------------\u001b[0m",
      "\u001b[0;31mNameError\u001b[0m                                 Traceback (most recent call last)",
      "Cell \u001b[0;32mIn[2], line 1\u001b[0m\n\u001b[0;32m----> 1\u001b[0m \u001b[38;5;28mprint\u001b[39m(\u001b[43municorn\u001b[49m\u001b[38;5;241m.\u001b[39m__version__)\n",
      "\u001b[0;31mNameError\u001b[0m: name 'unicorn' is not defined"
     ]
    }
   ],
   "source": [
    "print(unicorn.__version__)"
   ]
  },
  {
   "cell_type": "code",
   "execution_count": 9,
   "id": "db50ee89",
   "metadata": {},
   "outputs": [
    {
     "name": "stderr",
     "output_type": "stream",
     "text": [
      "[nltk_data] Downloading package punkt to /home/william/nltk_data...\n",
      "[nltk_data]   Package punkt is already up-to-date!\n",
      "[nltk_data] Downloading package wordnet to /home/william/nltk_data...\n",
      "[nltk_data]   Package wordnet is already up-to-date!\n",
      "[nltk_data] Downloading package stopwords to\n",
      "[nltk_data]     /home/william/nltk_data...\n",
      "[nltk_data]   Package stopwords is already up-to-date!\n",
      "[nltk_data] Downloading package omw-1.4 to /home/william/nltk_data...\n",
      "[nltk_data]   Package omw-1.4 is already up-to-date!\n",
      "[nltk_data] Downloading package words to /home/william/nltk_data...\n",
      "[nltk_data]   Package words is already up-to-date!\n"
     ]
    }
   ],
   "source": [
    "from flask import Flask\n",
    "from flasgger import Swagger\n",
    "from flask_restful import Api, Resource\n",
    "\n",
    "import joblib\n",
    "\n",
    "import pandas as pd\n",
    "\n",
    "# USE\n",
    "import tensorflow_hub as hub \n",
    "\n",
    "%run Cleaning.ipynb\n",
    "\n",
    "app = Flask(__name__)\n",
    "api = Api(app)\n",
    "\n",
    "template = {\n",
    "  \"swagger\": \"2.0\",\n",
    "  \"info\": {\n",
    "    \"title\": \"Prédiction de tags sur des questions de StackOverflow\",\n",
    "    \"description\": \"Deployement d'une API qui a pour but de traiter des questions non-traitées, en les nettoyant à l'aide de technique de NLP et en les preparant à l'aide d'un modèle USE. Un regression logistique sera ensuite appliquée.\",\n",
    "    \"version\": \"0.0.1\"\n",
    "  }\n",
    "}\n",
    "\n",
    "swagger = Swagger(app, template=template)\n",
    "# Charger les modèles pré-entrainés\n",
    "path = \"variables\"\n",
    "multilabel_binarizer = joblib.load(path + \"multilabel_binarizer.pkl\", 'r')\n",
    "model = joblib.load(path + \"lr_use.pkl\", 'r')\n",
    "\n",
    "# charger le modèle Universal Sentence Encoder\n",
    "module_url = hub.load(\"https://tfhub.dev/google/universal-sentence-encoder/4\")\n",
    "\n",
    "class Autotag(Resource):\n",
    "    def get(self, question):\n",
    "        \"\"\" \n",
    "       Pour utiliser ce code, veuillez simplement copier et coller de façon brute la question dont vous souhaitez obtenir la suggestion de tags\n",
    "       ---\n",
    "       parametres:\n",
    "         - question\n",
    "               type: string\n",
    "       retour:\n",
    "         '200':\n",
    "           description: Liste de tags prédits et de probabilités associées\n",
    "           Contenu:\n",
    "                type: object\n",
    "                proprietes:\n",
    "                    Predicted_Tags:\n",
    "                        type: string\n",
    "                        description: Liste de tags prédits avec plus de 50% de probabilités (par défaut).\n",
    "                    Predicted_Tags_Probabilities:\n",
    "                        type: string\n",
    "                        description: Liste de tags prédits avec plus de 35% de probabilités\n",
    "        \"\"\"\n",
    "        # Nettoyer la question \n",
    "        cleaned_question = process_text_vf(question)\n",
    "        \n",
    "        # Transformer notre question\n",
    "        cleaned_question = ' '.join(cleaned_question)\n",
    "        cleaned_question = [cleaned_question]\n",
    "        \n",
    "        # Appliquer le transformateur choisi\n",
    "        X_use = module_url(cleaned_question)\n",
    "        \n",
    "        \n",
    "        # Prrédire les données\n",
    "        predict = model.predict(X_use)\n",
    "        predict_probas = model.predict_proba(X_use)\n",
    "        \n",
    "        # Récupérer la target sous forme de string\n",
    "        tags_predict = multilabel_binarizer.inverse_transform(predict)\n",
    "        \n",
    "        # Dataframe de nos probabilités\n",
    "        df_predict_probas = pd.DataFrame(columns=['Tags', 'Probas'])\n",
    "        # Renvoyer la liste des étiquettes d'origine, dans l'ordre correspondant aux colonnes de la représentation binaire\n",
    "        df_predict_probas['Tags'] = multilabel_binarizer.classes_\n",
    "        # Affecter valeurs d'un tableau multidimensionnel à une colonne d'un DataFrame\n",
    "        df_predict_probas['Probas'] = predict_probas.reshape(-1)\n",
    "        # Selectionner les probabilités  >= 35%\n",
    "        df_predict_probas = df_predict_probas[df_predict_probas['Probas']>=0.35].sort_values('Probas', ascending=False)\n",
    "        \n",
    "        # Resultats\n",
    "        results = {}\n",
    "        results['Predicted_Tags'] = tags_predict\n",
    "        \n",
    "        results['Predicted_Tags_Probabilities'] = df_predict_probas.set_index('Tags')['Probas'].to_dict()\n",
    "        \n",
    "        return results, 200\n",
    "\n",
    "\n",
    "api.add_resource(Autotag, '/autotag/<predictions>')\n",
    "\n",
    "if __name__ == \"__main__\":\n",
    "    app.run()"
   ]
  }
 ],
 "metadata": {
  "kernelspec": {
   "display_name": "Python 3 (ipykernel)",
   "language": "python",
   "name": "python3"
  },
  "language_info": {
   "codemirror_mode": {
    "name": "ipython",
    "version": 3
   },
   "file_extension": ".py",
   "mimetype": "text/x-python",
   "name": "python",
   "nbconvert_exporter": "python",
   "pygments_lexer": "ipython3",
   "version": "3.10.9"
  }
 },
 "nbformat": 4,
 "nbformat_minor": 5
}
