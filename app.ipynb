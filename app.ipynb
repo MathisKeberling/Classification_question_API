{
 "cells": [
  {
   "cell_type": "code",
   "execution_count": null,
   "id": "db50ee89",
   "metadata": {},
   "outputs": [],
   "source": [
    "%run Cleaning.ipynb"
   ]
  },
  {
   "cell_type": "code",
   "execution_count": 8,
   "id": "78ebed95",
   "metadata": {},
   "outputs": [],
   "source": [
    "from flask import Flask\n",
    "from flasgger import Swagger\n",
    "from flask_restful import Api, Resource\n",
    "\n",
    "import joblib\n"
   ]
  }
 ],
 "metadata": {
  "kernelspec": {
   "display_name": "Python 3 (ipykernel)",
   "language": "python",
   "name": "python3"
  },
  "language_info": {
   "codemirror_mode": {
    "name": "ipython",
    "version": 3
   },
   "file_extension": ".py",
   "mimetype": "text/x-python",
   "name": "python",
   "nbconvert_exporter": "python",
   "pygments_lexer": "ipython3",
   "version": "3.10.9"
  }
 },
 "nbformat": 4,
 "nbformat_minor": 5
}
