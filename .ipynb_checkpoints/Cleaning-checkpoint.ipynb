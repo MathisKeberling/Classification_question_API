{
 "cells": [
  {
   "cell_type": "code",
   "execution_count": null,
   "id": "86d6b196",
   "metadata": {},
   "outputs": [],
   "source": [
    "# beautiful soup\n",
    "from bs4 import BeautifulSoup as bs\n",
    "\n",
    "# Caracter replacement \n",
    "import re\n",
    "\n",
    "# Tokenizer \n",
    "import nltk\n",
    "from nltk.stem import WordNetLemmatizer, PorterStemmer\n",
    "from nltk.tokenize import RegexpTokenizer\n",
    "from nltk.corpus import words, stopwords"
   ]
  },
  {
   "cell_type": "code",
   "execution_count": null,
   "id": "484dbc21",
   "metadata": {},
   "outputs": [],
   "source": [
    "nltk.download('punkt')\n",
    "nltk.download('wordnet')\n",
    "nltk.download('omw-1.4')\n",
    "nltk.download('words')"
   ]
  }
 ],
 "metadata": {
  "kernelspec": {
   "display_name": "Python 3 (ipykernel)",
   "language": "python",
   "name": "python3"
  },
  "language_info": {
   "codemirror_mode": {
    "name": "ipython",
    "version": 3
   },
   "file_extension": ".py",
   "mimetype": "text/x-python",
   "name": "python",
   "nbconvert_exporter": "python",
   "pygments_lexer": "ipython3",
   "version": "3.10.9"
  }
 },
 "nbformat": 4,
 "nbformat_minor": 5
}
